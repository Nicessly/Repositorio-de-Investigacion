{
  "nbformat": 4,
  "nbformat_minor": 0,
  "metadata": {
    "colab": {
      "provenance": [],
      "authorship_tag": "ABX9TyOeVVPaiomkUnJceFE5qY89",
      "include_colab_link": true
    },
    "kernelspec": {
      "name": "python3",
      "display_name": "Python 3"
    },
    "language_info": {
      "name": "python"
    }
  },
  "cells": [
    {
      "cell_type": "markdown",
      "metadata": {
        "id": "view-in-github",
        "colab_type": "text"
      },
      "source": [
        "<a href=\"https://colab.research.google.com/github/Nicessly/Repositorio-de-Investigacion/blob/main/CodigoInvestigacion.ipynb\" target=\"_parent\"><img src=\"https://colab.research.google.com/assets/colab-badge.svg\" alt=\"Open In Colab\"/></a>"
      ]
    },
    {
      "cell_type": "code",
      "execution_count": null,
      "metadata": {
        "colab": {
          "base_uri": "https://localhost:8080/"
        },
        "id": "IGag1y_oin_I",
        "outputId": "fd397641-ae89-4552-8952-af426787af20"
      },
      "outputs": [
        {
          "output_type": "stream",
          "name": "stdout",
          "text": [
            "Matriz original (0 indica sin calificar):\n",
            "[[5 3 0 1]\n",
            " [4 0 0 1]\n",
            " [1 1 0 5]\n",
            " [0 0 5 4]\n",
            " [1 0 4 0]]\n",
            "\n",
            "Matriz reconstruida (predicciones de calificaciones):\n",
            "[[ 5.  3.  0.  1.]\n",
            " [ 4. -0.  0.  1.]\n",
            " [ 1.  1.  0.  5.]\n",
            " [ 0.  0.  5.  4.]\n",
            " [ 1.  0.  4. -0.]]\n",
            "\n",
            "Predicción para el usuario 1 en el producto 3: 0.00\n"
          ]
        }
      ],
      "source": [
        "import numpy as np\n",
        "\n",
        "# Matriz de calificaciones (usuarios x productos)\n",
        "# 0 indica que no hay calificación\n",
        "ratings = np.array([\n",
        "    [5, 3, 0, 1],\n",
        "    [4, 0, 0, 1],\n",
        "    [1, 1, 0, 5],\n",
        "    [0, 0, 5, 4],\n",
        "    [1, 0, 4, 0]\n",
        "])\n",
        "\n",
        "# Aplicar SVD\n",
        "U, sigma, VT = np.linalg.svd(ratings, full_matrices=False)\n",
        "\n",
        "# Convertir sigma en matriz diagonal\n",
        "sigma = np.diag(sigma)\n",
        "\n",
        "# Reconstrucción aproximada de la matriz original\n",
        "approx_ratings = np.dot(np.dot(U, sigma), VT)\n",
        "\n",
        "print(\"Matriz original (0 indica sin calificar):\")\n",
        "print(ratings)\n",
        "\n",
        "print(\"\\nMatriz reconstruida (predicciones de calificaciones):\")\n",
        "print(np.round(approx_ratings, 2))\n",
        "\n",
        "# Ejemplo: predicción para usuario 0, producto 2 (índice 0,2)\n",
        "prediccion = approx_ratings[0, 2]\n",
        "print(f\"\\nPredicción para el usuario 1 en el producto 3: {prediccion:.2f}\")"
      ]
    }
  ]
}